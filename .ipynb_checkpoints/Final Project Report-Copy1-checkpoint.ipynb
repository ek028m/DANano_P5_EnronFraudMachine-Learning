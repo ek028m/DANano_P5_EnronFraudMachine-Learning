{
 "cells": [
  {
   "cell_type": "markdown",
   "metadata": {},
   "source": [
    "# Machine Learning Project- Investigating the Enron Dataset for Fraud\n",
    "In 2000, Enron was one of the largest companies in the United States. By 2002, it had collapsed into bankruptcy due to widespread corporate fraud. In the resulting Federal investigation, a significant amount of typically confidential information entered into the public record, including tens of thousands of emails and detailed financial data for top executives. "
   ]
  },
  {
   "cell_type": "markdown",
   "metadata": {},
   "source": [
    "## Question 1\n",
    "Summarize for us the goal of this project and how machine learning is useful in trying to accomplish it. As part of your answer, give some background on the dataset and how it can be used to answer the project question. Were there any outliers in the data when you got it, and how did you handle those?  [relevant rubric items: “data exploration”, “outlier investigation”]"
   ]
  },
  {
   "cell_type": "markdown",
   "metadata": {},
   "source": [
    "### Data Exploration"
   ]
  },
  {
   "cell_type": "code",
   "execution_count": 8,
   "metadata": {
    "collapsed": false
   },
   "outputs": [],
   "source": [
    "import sys\n",
    "import pickle\n",
    "import pandas as pd\n",
    "import matplotlib.pyplot as plt\n",
    "from numpy import mean\n",
    "\n",
    "%matplotlib inline\n",
    "\n",
    "sys.path.append(\"../tools/\")\n",
    "\n",
    "from tester import dump_classifier_and_data\n",
    "from sklearn.naive_bayes import GaussianNB\n",
    "from sklearn.ensemble import RandomForestClassifier\n",
    "from sklearn.svm import SVC\n",
    "from sklearn.cluster import KMeans\n",
    "from sklearn.linear_model import LogisticRegression\n",
    "from sklearn.pipeline import Pipeline\n",
    "from sklearn.metrics import accuracy_score, precision_score, recall_score, f1_score\n",
    "from feature_format import featureFormat, targetFeatureSplit\n",
    "from sklearn.preprocessing import MinMaxScaler, StandardScaler\n",
    "from sklearn.feature_selection import SelectKBest\n",
    "from sklearn import cross_validation"
   ]
  },
  {
   "cell_type": "code",
   "execution_count": 9,
   "metadata": {
    "collapsed": true
   },
   "outputs": [],
   "source": [
    "target_label = 'poi'\n",
    "\n",
    "features_list = ['poi',\n",
    "                 'salary',\n",
    "                 'total_payments',\n",
    "                 'bonus',\n",
    "                 'total_stock_value',\n",
    "                 'expenses',\n",
    "                 'exercised_stock_options',\n",
    "                 'other',\n",
    "                 'long_term_incentive',\n",
    "                 'restricted_stock',\n",
    "                 'to_messages',\n",
    "                 'from_poi_to_this_person',\n",
    "                 'from_messages',\n",
    "                 'from_this_person_to_poi',\n",
    "                 'shared_receipt_with_poi',]"
   ]
  },
  {
   "cell_type": "code",
   "execution_count": 10,
   "metadata": {
    "collapsed": true
   },
   "outputs": [],
   "source": [
    "### Load the dictionary containing the dataset\n",
    "with open(\"final_project_dataset.pkl\", \"r\") as data_file:\n",
    "    data_dict = pickle.load(data_file)"
   ]
  },
  {
   "cell_type": "code",
   "execution_count": 11,
   "metadata": {
    "collapsed": true
   },
   "outputs": [],
   "source": [
    "df = pd.DataFrame.from_dict(data_dict, orient = 'index' , dtype = float)    \n",
    "\n",
    "#df.info()"
   ]
  },
  {
   "cell_type": "code",
   "execution_count": 12,
   "metadata": {
    "collapsed": false
   },
   "outputs": [
    {
     "name": "stdout",
     "output_type": "stream",
     "text": [
      "18\n"
     ]
    }
   ],
   "source": [
    "\"\"\" find how many POIs are in the dataset\"\"\"\n",
    "i = 0\n",
    "for key in data_dict:\n",
    "    # value of poi field is type Boolean so don't use of string\n",
    "    if data_dict[key][\"poi\"] == True:\n",
    "        i = i + 1\n",
    "\n",
    "print(i)"
   ]
  },
  {
   "cell_type": "markdown",
   "metadata": {},
   "source": [
    "This dataset contains 146 entries (observations) along with 21 total variables (features).  Of these 146 observations: 18 are POI's and 128 are non-POI's.  Of these 21 features: 14 are financial features, 6 are email features, and 1 is a POI label.  "
   ]
  },
  {
   "cell_type": "markdown",
   "metadata": {},
   "source": [
    "### Outlier Investigation"
   ]
  },
  {
   "cell_type": "markdown",
   "metadata": {},
   "source": [
    "Through my investigation of the features I found 2 outliers.  The first of which as seen below - shows how there was a data error entry in the POIs since \"THE TRAVEL AGENCY IN THE PARK\" entry is not an actual person.  I decided to remove this piece of information as it's not an accurate representation of a POI."
   ]
  },
  {
   "cell_type": "code",
   "execution_count": 14,
   "metadata": {
    "collapsed": true
   },
   "outputs": [
    {
     "data": {
      "text/plain": [
       "ALLEN PHILLIP K                0.0\n",
       "BADUM JAMES P                  0.0\n",
       "BANNANTINE JAMES M             0.0\n",
       "BAXTER JOHN C                  0.0\n",
       "BAY FRANKLIN R                 0.0\n",
       "BAZELIDES PHILIP J             0.0\n",
       "BECK SALLY W                   0.0\n",
       "BELDEN TIMOTHY N               1.0\n",
       "BELFER ROBERT                  0.0\n",
       "BERBERIAN DAVID                0.0\n",
       "BERGSIEKER RICHARD P           0.0\n",
       "BHATNAGAR SANJAY               0.0\n",
       "BIBI PHILIPPE A                0.0\n",
       "BLACHMAN JEREMY M              0.0\n",
       "BLAKE JR. NORMAN P             0.0\n",
       "BOWEN JR RAYMOND M             1.0\n",
       "BROWN MICHAEL                  0.0\n",
       "BUCHANAN HAROLD G              0.0\n",
       "BUTTS ROBERT H                 0.0\n",
       "BUY RICHARD B                  0.0\n",
       "CALGER CHRISTOPHER F           1.0\n",
       "CARTER REBECCA C               0.0\n",
       "CAUSEY RICHARD A               1.0\n",
       "CHAN RONNIE                    0.0\n",
       "CHRISTODOULOU DIOMEDES         0.0\n",
       "CLINE KENNETH W                0.0\n",
       "COLWELL WESLEY                 1.0\n",
       "CORDES WILLIAM R               0.0\n",
       "COX DAVID                      0.0\n",
       "CUMBERLAND MICHAEL S           0.0\n",
       "                              ... \n",
       "SCRIMSHAW MATTHEW              0.0\n",
       "SHANKMAN JEFFREY A             0.0\n",
       "SHAPIRO RICHARD S              0.0\n",
       "SHARP VICTORIA T               0.0\n",
       "SHELBY REX                     1.0\n",
       "SHERRICK JEFFREY B             0.0\n",
       "SHERRIFF JOHN R                0.0\n",
       "SKILLING JEFFREY K             1.0\n",
       "STABLER FRANK                  0.0\n",
       "SULLIVAN-SHAKLOVITZ COLLEEN    0.0\n",
       "SUNDE MARTIN                   0.0\n",
       "TAYLOR MITCHELL S              0.0\n",
       "THORN TERENCE H                0.0\n",
       "TILNEY ELIZABETH A             0.0\n",
       "TOTAL                          0.0\n",
       "UMANOFF ADAM S                 0.0\n",
       "URQUHART JOHN A                0.0\n",
       "WAKEHAM JOHN                   0.0\n",
       "WALLS JR ROBERT H              0.0\n",
       "WALTERS GARETH W               0.0\n",
       "WASAFF GEORGE                  0.0\n",
       "WESTFAHL RICHARD K             0.0\n",
       "WHALEY DAVID A                 0.0\n",
       "WHALLEY LAWRENCE G             0.0\n",
       "WHITE JR THOMAS E              0.0\n",
       "WINOKUR JR. HERBERT S          0.0\n",
       "WODRASKA JOHN                  0.0\n",
       "WROBEL BRUCE                   0.0\n",
       "YEAGER F SCOTT                 1.0\n",
       "YEAP SOON                      0.0\n",
       "Name: poi, dtype: float64"
      ]
     },
     "execution_count": 14,
     "metadata": {},
     "output_type": "execute_result"
    }
   ],
   "source": [
    "# Remove THE TRAVEL AGENCY IN THE PARK from the list of POIs since it's not an actual person.  Data error entry.\n",
    "df['poi']\n",
    "df.drop('THE TRAVEL AGENCY IN THE PARK', inplace = True)\n",
    "df['poi']"
   ]
  },
  {
   "cell_type": "markdown",
   "metadata": {},
   "source": [
    "The second outlier I found occured in the plot of 'salary' vs. 'bonus', the 'TOTAL' outlier had a value > $250,000,000, meaning that it included the total value of all the salaries of all the employees in the Enron dataset."
   ]
  },
  {
   "cell_type": "code",
   "execution_count": 150,
   "metadata": {
    "collapsed": true
   },
   "outputs": [
    {
     "data": {
      "text/plain": [
       "<matplotlib.axes._subplots.AxesSubplot at 0x5a91940>"
      ]
     },
     "execution_count": 150,
     "metadata": {},
     "output_type": "execute_result"
    },
    {
     "data": {
      "image/png": "[encoded data removed]",
      "text/plain": [
       "<matplotlib.figure.Figure at 0xb91d940>"
      ]
     },
     "metadata": {},
     "output_type": "display_data"
    }
   ],
   "source": [
    "df.plot.scatter(x = 'salary', y = 'bonus')"
   ]
  },
  {
   "cell_type": "code",
   "execution_count": 245,
   "metadata": {
    "collapsed": false
   },
   "outputs": [
    {
     "data": {
      "text/plain": [
       "'TOTAL'"
      ]
     },
     "execution_count": 245,
     "metadata": {},
     "output_type": "execute_result"
    }
   ],
   "source": [
    "# outlier of a salary > 2.5 * 10e^7\n",
    "# see who it belongs to\n",
    "df['salary']\n",
    "df['salary'].idxmax()"
   ]
  },
  {
   "cell_type": "code",
   "execution_count": 246,
   "metadata": {
    "collapsed": true
   },
   "outputs": [],
   "source": [
    "# remove this as it's the total of all the salaries of the employees in the Enron dataset\n",
    "df.drop('TOTAL', inplace = True)"
   ]
  },
  {
   "cell_type": "code",
   "execution_count": 153,
   "metadata": {
    "collapsed": true
   },
   "outputs": [
    {
     "data": {
      "text/plain": [
       "<matplotlib.axes._subplots.AxesSubplot at 0xd576128>"
      ]
     },
     "execution_count": 153,
     "metadata": {},
     "output_type": "execute_result"
    },
    {
     "data": {
      "image/png": "[encoded data removed]",
      "text/plain": [
       "<matplotlib.figure.Figure at 0xdd285f8>"
      ]
     },
     "metadata": {},
     "output_type": "display_data"
    }
   ],
   "source": [
    "df.plot.scatter(x = 'salary', y = 'bonus')"
   ]
  },
  {
   "cell_type": "markdown",
   "metadata": {},
   "source": [
    "I removed these outliers permanently from the dataset as they would skew the results.  Additionally, I further cleaned the data by replacing 'NaN' values with '0' instead."
   ]
  },
  {
   "cell_type": "code",
   "execution_count": 15,
   "metadata": {
    "collapsed": true
   },
   "outputs": [
    {
     "data": {
      "text/plain": [
       "{'bonus': 'NaN',\n",
       " 'deferral_payments': 'NaN',\n",
       " 'deferred_income': 'NaN',\n",
       " 'director_fees': 'NaN',\n",
       " 'email_address': 'NaN',\n",
       " 'exercised_stock_options': 'NaN',\n",
       " 'expenses': 'NaN',\n",
       " 'from_messages': 'NaN',\n",
       " 'from_poi_to_this_person': 'NaN',\n",
       " 'from_this_person_to_poi': 'NaN',\n",
       " 'loan_advances': 'NaN',\n",
       " 'long_term_incentive': 'NaN',\n",
       " 'other': 362096,\n",
       " 'poi': False,\n",
       " 'restricted_stock': 'NaN',\n",
       " 'restricted_stock_deferred': 'NaN',\n",
       " 'salary': 'NaN',\n",
       " 'shared_receipt_with_poi': 'NaN',\n",
       " 'to_messages': 'NaN',\n",
       " 'total_payments': 362096,\n",
       " 'total_stock_value': 'NaN'}"
      ]
     },
     "execution_count": 15,
     "metadata": {},
     "output_type": "execute_result"
    }
   ],
   "source": [
    "# remove any outliers permanently\n",
    "data_dict.pop('TOTAL')\n",
    "data_dict.pop('THE TRAVEL AGENCY IN THE PARK')"
   ]
  },
  {
   "cell_type": "code",
   "execution_count": 16,
   "metadata": {
    "collapsed": true
   },
   "outputs": [],
   "source": [
    "# clean up the data permanently\n",
    "for ii in data_dict:\n",
    "    for jj in data_dict[ii]:\n",
    "        if data_dict[ii][jj] == 'NaN':\n",
    "            data_dict[ii][jj] = 0"
   ]
  },
  {
   "cell_type": "markdown",
   "metadata": {},
   "source": [
    "## Question 2\n",
    "What features did you end up using in your POI identifier, and what selection process did you use to pick them? Did you have to do any scaling? Why or why not? As part of the assignment, you should attempt to engineer your own feature that does not come ready-made in the dataset -- explain what feature you tried to make, and the rationale behind it. (You do not necessarily have to use it in the final analysis, only engineer and test it.) In your feature selection step, if you used an algorithm like a decision tree, please also give the feature importances of the features that you use, and if you used an automated feature selection function like SelectKBest, please report the feature scores and reasons for your choice of parameter values.  [relevant rubric items: “create new features”, “intelligently select features”, “properly scale features”]"
   ]
  },
  {
   "cell_type": "markdown",
   "metadata": {},
   "source": [
    "### Create New Features"
   ]
  },
  {
   "cell_type": "markdown",
   "metadata": {},
   "source": [
    "While there's a number of possible combinations for new feature creation I  was most interested in looking at the email features to see if any new powerful features could be created since intuitively, it makes the most sense.  I am curious to test whether the idea of POI's sending emails to other POI's at a higher rate than the general population holds true.\n",
    "\n",
    "To test this I will create 2 new features of the computed fractions for the number of emails sent from POI's and the number of emails received from POI's."
   ]
  },
  {
   "cell_type": "code",
   "execution_count": 17,
   "metadata": {
    "collapsed": true
   },
   "outputs": [],
   "source": [
    "# create new features in the df\n",
    "df['fraction_from_poi'] = df['from_poi_to_this_person'] / df['to_messages']\n",
    "df['fraction_to_poi'] = df['from_this_person_to_poi'] / df['to_messages']"
   ]
  },
  {
   "cell_type": "code",
   "execution_count": 18,
   "metadata": {
    "collapsed": false
   },
   "outputs": [
    {
     "data": {
      "text/plain": [
       "<matplotlib.axes._subplots.AxesSubplot at 0xccec0b8>"
      ]
     },
     "execution_count": 18,
     "metadata": {},
     "output_type": "execute_result"
    },
    {
     "data": {
      "image/png": "[encoded data removed]",
      "text/plain": [
       "<matplotlib.figure.Figure at 0x5a07208>"
      ]
     },
     "metadata": {},
     "output_type": "display_data"
    }
   ],
   "source": [
    "# plot the features against each other\n",
    "# plot non-poi\n",
    "plot1 = (df[df['poi'] == False].plot.scatter(x='fraction_from_poi', y='fraction_to_poi', c='r', label='Non-POI'))\n",
    "# plot of poi\n",
    "df[df['poi'] == True].plot.scatter(x='fraction_from_poi', y='fraction_to_poi', c='b', label='POI', ax=plot1)"
   ]
  },
  {
   "cell_type": "markdown",
   "metadata": {},
   "source": [
    "### Condense the Features List / Intelligently Select Features"
   ]
  },
  {
   "cell_type": "markdown",
   "metadata": {},
   "source": [
    "I started with all the features available from my list and filtered from there.  The first features I removed were features with high NaN values.  These features include 'deferred_income' (196 occurrences of NaN), 'loan_advances' (141), 'director_fees' (128), 'restricted_stock_deferred' (127), and 'deferral_payments' (106)."
   ]
  },
  {
   "cell_type": "code",
   "execution_count": 154,
   "metadata": {
    "collapsed": true
   },
   "outputs": [
    {
     "data": {
      "text/plain": [
       "50"
      ]
     },
     "execution_count": 154,
     "metadata": {},
     "output_type": "execute_result"
    }
   ],
   "source": [
    "# remove NaN values\n",
    "df['salary'][df['salary'].isnull()]\n",
    "len(df['salary'][df['salary'].isnull()])"
   ]
  },
  {
   "cell_type": "code",
   "execution_count": 155,
   "metadata": {
    "collapsed": true
   },
   "outputs": [
    {
     "data": {
      "text/plain": [
       "58"
      ]
     },
     "execution_count": 155,
     "metadata": {},
     "output_type": "execute_result"
    }
   ],
   "source": [
    "# write a function to compute number of NaN values per feature\n",
    "def nanValues(feature):\n",
    "    df[feature][df[feature].isnull()]\n",
    "    \n",
    "    return len(df[feature][df[feature].isnull()])"
   ]
  },
  {
   "cell_type": "code",
   "execution_count": 300,
   "metadata": {
    "collapsed": false
   },
   "outputs": [],
   "source": [
    "# save the dataframe to data_dict then to pickle file\n",
    "\"\"\"df = df.fillna(0)\n",
    "df\n",
    "df.to_dict('dict')\n",
    "with open('final_project_dataset.pkl', 'wb') as data_file:\n",
    "    pickle.dump(df.to_dict('dict'), data_file)\"\"\"\n",
    "with open(\"final_project_dataset.pkl\", \"r\") as data_file:\n",
    "    data_dict = pickle.load(data_file)    "
   ]
  },
  {
   "cell_type": "code",
   "execution_count": 273,
   "metadata": {
    "collapsed": false
   },
   "outputs": [],
   "source": [
    "# remove from the features_list\n",
    "\"\"\"features_list.remove('deferred_income')\n",
    "features_list.remove('loan_advances')\n",
    "features_list.remove('director_fees')\n",
    "features_list.remove('restricted_stock_deferred')\n",
    "features_list.remove('deferral_payments')\"\"\"\n",
    "# save features_list to a pickle file\n",
    "with open('my_feature_list.pkl', 'wb') as f:\n",
    "    pickle.dump(features_list, f)"
   ]
  },
  {
   "cell_type": "markdown",
   "metadata": {},
   "source": [
    "Next, I replaced all the NaN values in the dataframe with 0 instead. "
   ]
  },
  {
   "cell_type": "markdown",
   "metadata": {},
   "source": [
    "### Properly Scale Features"
   ]
  },
  {
   "cell_type": "markdown",
   "metadata": {},
   "source": [
    "I used MinMaxScaler to transform the features list, this esimtator scales and translates each feature individually such that it is in the same range on the training set, as per sklearn. "
   ]
  },
  {
   "cell_type": "code",
   "execution_count": 21,
   "metadata": {
    "collapsed": true
   },
   "outputs": [
    {
     "name": "stdout",
     "output_type": "stream",
     "text": [
      "[[  1.81735475e-01   4.33029255e-02   5.21875000e-01 ...,   1.52770045e-01\n",
      "    1.06732348e-01   2.54845137e-01]\n",
      " [  0.00000000e+00   1.76193863e-03   0.00000000e+00 ...,   0.00000000e+00\n",
      "    0.00000000e+00   0.00000000e+00]\n",
      " [  4.29243254e-04   8.84703391e-03   0.00000000e+00 ...,   2.01837416e-03\n",
      "    0.00000000e+00   8.42238725e-02]\n",
      " ..., \n",
      " [  0.00000000e+00   0.00000000e+00   0.00000000e+00 ...,   0.00000000e+00\n",
      "    0.00000000e+00   0.00000000e+00]\n",
      " [  1.42543856e-01   3.47914948e-03   0.00000000e+00 ...,   0.00000000e+00\n",
      "    0.00000000e+00   0.00000000e+00]\n",
      " [  0.00000000e+00   5.32030805e-04   0.00000000e+00 ...,   0.00000000e+00\n",
      "    0.00000000e+00   0.00000000e+00]]\n"
     ]
    }
   ],
   "source": [
    "scaler = MinMaxScaler()\n",
    "features = scaler.fit_transform(features)\n",
    "print(features)"
   ]
  },
  {
   "cell_type": "markdown",
   "metadata": {},
   "source": [
    "## Question 3\n",
    "What algorithm did you end up using? What other one(s) did you try? How did model performance differ between algorithms?  [relevant rubric item: “pick an algorithm”]"
   ]
  },
  {
   "cell_type": "markdown",
   "metadata": {},
   "source": [
    "### Pick an Algorithm"
   ]
  },
  {
   "cell_type": "markdown",
   "metadata": {
    "collapsed": true
   },
   "source": [
    "I fit the data to a handful of classifiers: Gaussian NB, Random Forest, Support Vector Machine, K-means Clustering, and Logistic Regression."
   ]
  },
  {
   "cell_type": "markdown",
   "metadata": {},
   "source": [
    "## Question 4\n",
    "What does it mean to tune the parameters of an algorithm, and what can happen if you don’t do this well?  How did you tune the parameters of your particular algorithm? What parameters did you tune? (Some algorithms do not have parameters that you need to tune -- if this is the case for the one you picked, identify and briefly explain how you would have done it for the model that was not your final choice or a different model that does utilize parameter tuning, e.g. a decision tree classifier).  [relevant rubric items: “discuss parameter tuning”, “tune the algorithm”]"
   ]
  },
  {
   "cell_type": "markdown",
   "metadata": {},
   "source": [
    "### Discuss Parameter Tuning"
   ]
  },
  {
   "cell_type": "markdown",
   "metadata": {},
   "source": [
    "### Tune the Algorithm"
   ]
  },
  {
   "cell_type": "markdown",
   "metadata": {},
   "source": [
    "## Question 5\n",
    "What is validation, and what’s a classic mistake you can make if you do it wrong? How did you validate your analysis?  [relevant rubric items: “discuss validation”, “validation strategy”]"
   ]
  },
  {
   "cell_type": "markdown",
   "metadata": {},
   "source": [
    "### Discuss Validation"
   ]
  },
  {
   "cell_type": "markdown",
   "metadata": {},
   "source": [
    "### Validation Strategy"
   ]
  },
  {
   "cell_type": "markdown",
   "metadata": {},
   "source": [
    "## Question 6\n",
    "Give at least 2 evaluation metrics and your average performance for each of them.  Explain an interpretation of your metrics that says something human-understandable about your algorithm’s performance. [relevant rubric item: “usage of evaluation metrics”]"
   ]
  },
  {
   "cell_type": "markdown",
   "metadata": {},
   "source": [
    "### Usage of Evaluation Metrics"
   ]
  },
  {
   "cell_type": "code",
   "execution_count": null,
   "metadata": {
    "collapsed": true
   },
   "outputs": [],
   "source": []
  }
 ],
 "metadata": {
  "kernelspec": {
   "display_name": "Python 2",
   "language": "python",
   "name": "python2"
  },
  "language_info": {
   "codemirror_mode": {
    "name": "ipython",
    "version": 2
   },
   "file_extension": ".py",
   "mimetype": "text/x-python",
   "name": "python",
   "nbconvert_exporter": "python",
   "pygments_lexer": "ipython2",
   "version": "2.7.13"
  }
 },
 "nbformat": 4,
 "nbformat_minor": 2
}
